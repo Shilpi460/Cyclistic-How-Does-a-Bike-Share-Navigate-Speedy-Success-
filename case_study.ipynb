{
 "cells": [
  {
   "cell_type": "markdown",
   "metadata": {},
   "source": [
    "# Cyclistic : How Does a Bike-Share Navigate Speedy Success?\n",
    "## Author : Shilpi Dubey\n",
    "### Data source:\n",
    "Motivate International Inc."
   ]
  },
  {
   "cell_type": "code",
   "execution_count": null,
   "metadata": {},
   "outputs": [],
   "source": [
    "## loading necessary packages\n",
    "library(dplyr)\n",
    "library(tidyr)"
   ]
  },
  {
   "cell_type": "markdown",
   "metadata": {},
   "source": [
    "### Ask\n",
    "\n",
    "##### Business task\n",
    "How do annual members and casual riders use cyclistic bike differently?\n",
    "##### Stakeholders\n",
    "Cyclistic executive team, Director of marketing(Lily Moreno) ,Cyclistic marketing analytics team"
   ]
  },
  {
   "cell_type": "markdown",
   "metadata": {},
   "source": [
    "### Prepare\n",
    "\n",
    "##### Download the data and store it appropriately\n",
    "The data has been downloaded and is stored locally on desktop as well as google drive.\n",
    "##### Identify how data is organized\n",
    "Seperate comma seperated files are available for 12 months with 13 columns namely ride_id, rideable_type, started_at, ended_at, start_station_name, start_station_id, end_station_name, end_station_id,start_lat, start_lng, end_lat, end_long and member/casual.\n",
    "##### Determine the credibility of the data\n",
    "Since the data is publicly available by Motivate International Inc., we can assume that the data is credible."
   ]
  },
  {
   "cell_type": "markdown",
   "metadata": {},
   "source": [
    "### Process\n",
    "\n",
    "##### Tools used\n",
    "For this analysis, I will use R for statistical analysis and tableau for data visualization.\n",
    "##### Transform the data\n",
    "Since, the dataframe y2020_12, y2021_01, y2021_02 and y2021_03 contains start_station_id and end_station_id as character, therefore, they need to be converted to integer on order to combine the data into single dataframe. "
   ]
  },
  {
   "cell_type": "code",
   "execution_count": 2,
   "metadata": {},
   "outputs": [],
   "source": [
    "## Load all datasets\n",
    "y2020_04 <- read.csv(\"C:/Users/lenovo/Desktop/case study/202004-divvy-tripdata.csv\")\n",
    "y2020_05 <- read.csv(\"C:/Users/lenovo/Desktop/case study/202005-divvy-tripdata.csv\")\n",
    "y2020_06 <- read.csv(\"C:/Users/lenovo/Desktop/case study/202006-divvy-tripdata.csv\")\n",
    "y2020_07 <- read.csv(\"C:/Users/lenovo/Desktop/case study/202007-divvy-tripdata.csv\")\n",
    "y2020_08 <- read.csv(\"C:/Users/lenovo/Desktop/case study/202008-divvy-tripdata.csv\")\n",
    "y2020_09 <- read.csv(\"C:/Users/lenovo/Desktop/case study/202009-divvy-tripdata.csv\")\n",
    "y2020_10 <- read.csv(\"C:/Users/lenovo/Desktop/case study/202010-divvy-tripdata.csv\")\n",
    "y2020_11 <- read.csv(\"C:/Users/lenovo/Desktop/case study/202011-divvy-tripdata.csv\")\n",
    "y2020_12 <- read.csv(\"C:/Users/lenovo/Desktop/case study/202012-divvy-tripdata.csv\")\n",
    "y2021_01 <- read.csv(\"C:/Users/lenovo/Desktop/case study/202101-divvy-tripdata.csv\")\n",
    "y2021_02 <- read.csv(\"C:/Users/lenovo/Desktop/case study/202102-divvy-tripdata.csv\")\n",
    "y2021_03 <- read.csv(\"C:/Users/lenovo/Desktop/case study/202103-divvy-tripdata.csv\")"
   ]
  },
  {
   "cell_type": "code",
   "execution_count": 6,
   "metadata": {},
   "outputs": [],
   "source": [
    "y2020_12 <- mutate(y2020_12, start_station_id =  as.integer(start_station_id), end_station_id = as.integer(end_station_id))\n",
    "y2021_01 <- mutate(y2021_01, start_station_id =  as.integer(start_station_id), end_station_id = as.integer(end_station_id))\n",
    "y2021_02 <- mutate(y2021_02, start_station_id =  as.integer(start_station_id), end_station_id = as.integer(end_station_id))\n",
    "y2021_03 <- mutate(y2021_03, start_station_id =  as.integer(start_station_id), end_station_id = as.integer(end_station_id))"
   ]
  },
  {
   "cell_type": "code",
   "execution_count": 7,
   "metadata": {},
   "outputs": [],
   "source": [
    "all_trips <- bind_rows(\n",
    "                        y2020_04,\n",
    "                        y2020_05,\n",
    "                        y2020_06,\n",
    "                        y2020_07,\n",
    "                        y2020_08,\n",
    "                        y2020_09,\n",
    "                        y2020_10,\n",
    "                        y2020_11,\n",
    "                        y2020_12,\n",
    "                        y2021_01,\n",
    "                        y2021_02,\n",
    "                        y2021_03\n",
    ")"
   ]
  },
  {
   "cell_type": "code",
   "execution_count": 8,
   "metadata": {
    "collapsed": true
   },
   "outputs": [],
   "source": [
    "all_trips <- mutate(all_trips, started_at = as.POSIXct(started_at), ended_at = as.POSIXct(ended_at))"
   ]
  },
  {
   "cell_type": "code",
   "execution_count": 11,
   "metadata": {},
   "outputs": [],
   "source": [
    "all_trips$year <- format(as.Date(all_trips$date),\"%Y\")\n",
    "all_trips$month <- format(as.Date(all_trips$date),\"%m\")\n",
    "all_trips$day <- format(as.Date(all_trips$date),\"%d\")\n",
    "all_trips$day_of_week <- format(as.Date(all_trips$date),\"%A\")"
   ]
  },
  {
   "cell_type": "code",
   "execution_count": 9,
   "metadata": {},
   "outputs": [],
   "source": [
    "all_trips <- mutate(all_trips, date = as.Date(started_at), ride_length_mins\n",
    "                    = as.numeric(difftime(ended_at, started_at, units = \"mins\")))"
   ]
  },
  {
   "cell_type": "code",
   "execution_count": 4,
   "metadata": {},
   "outputs": [],
   "source": [
    "all_trips <- all_trips %>% select(-c(started_at, ended_at, start_lat, start_lng, end_lat, end_lng))\n",
    "all_trips <- drop_na(all_trips)"
   ]
  },
  {
   "cell_type": "code",
   "execution_count": 16,
   "metadata": {},
   "outputs": [],
   "source": [
    "all_trips <- all_trips[!all_trips$ride_length_mins <0,]"
   ]
  },
  {
   "cell_type": "markdown",
   "metadata": {},
   "source": [
    "##### Documentation for cleaning or manipulation\n",
    "After the gathering of all datasets in single dataframe,\n",
    "* started_at and ended_at column was transformed to timestamp format\n",
    "* ride_length(min) column was added\n",
    "* seperate columns for year, month, day and day_of_week was extracted from the started_at date\n",
    "* unneccesary columns like started_at, ended_at, start_lat, start_lng, end_lat, end_lng was removed\n",
    "* NA's were removed(since they accounted for only 0.37% of total)\n",
    "* removed rows with negative ride length value"
   ]
  },
  {
   "cell_type": "markdown",
   "metadata": {},
   "source": [
    "### Analyze\n",
    "\n",
    "##### Perform Calculations\n",
    "Let's first look at a statistical summary of the aggregated and transformed data frame. Let's also look at the structure of the columns."
   ]
  },
  {
   "cell_type": "code",
   "execution_count": null,
   "metadata": {},
   "outputs": [],
   "source": [
    "summary(all_trips)\n",
    "str(all_trips)"
   ]
  },
  {
   "cell_type": "code",
   "execution_count": null,
   "metadata": {},
   "outputs": [],
   "source": [
    "aggregate(all_trips$ride_length_mins ~ all_trips$member_casual, FUN = mean)\n",
    "aggregate(all_trips$ride_length_mins ~ all_trips$member_casual, FUN = median)"
   ]
  },
  {
   "cell_type": "code",
   "execution_count": null,
   "metadata": {},
   "outputs": [],
   "source": [
    "Mode <- function(x) {\n",
    "  ux <- unique(x)\n",
    "  ux[which.max(tabulate(match(x, ux)))]\n",
    "}\n",
    "aggregate(all_trips$day_of_week ~ all_trips$member_casual, FUN = Mode)"
   ]
  },
  {
   "cell_type": "code",
   "execution_count": null,
   "metadata": {},
   "outputs": [],
   "source": [
    "all_trips$day_of_week <- ordered(all_trips$day_of_week, levels=c(\"Sunday\", \"Monday\", \"Tuesday\", \"Wednesday\", \"Thursday\", \"Friday\", \"Saturday\"))\n",
    "aggregate(all_trips$ride_length_mins ~ all_trips$member_casual + all_trips$day_of_week, FUN = mean)"
   ]
  },
  {
   "cell_type": "code",
   "execution_count": null,
   "metadata": {},
   "outputs": [],
   "source": [
    "all_trips %>% \n",
    "  group_by(member_casual, day_of_week) %>%  \n",
    "  summarise(number_of_rides = n()  \n",
    "  ,average_duration = mean(ride_length_mins)) %>% \n",
    "  arrange(member_casual, day_of_week)"
   ]
  },
  {
   "cell_type": "markdown",
   "metadata": {},
   "source": [
    "##### Identify trends and relationship\n",
    "Here are key observations usinf simple analysis,\n",
    "* Average ride time for casual riders is more than members. \n",
    "* Riders usually prefer to ride on saturdays\n",
    "* Members are consistent is using bikes all the days of the week for specific amount of time with little bit increase on  saturdays while for casual riders duartion of using bike is less on monday and it increases at the weekends."
   ]
  },
  {
   "cell_type": "markdown",
   "metadata": {},
   "source": [
    "### Share\n",
    "\n",
    "##### Determine best way to share your findings\n",
    "I will use tableau to create data visualization and share the findings.\n",
    "##### Create effective visualization\n",
    "[Link to tableau dashboard](https://public.tableau.com/profile/shilpi.dubey#!/vizhome/CyclisticHowcasualridersusebikedifferentlythanmembers/CyclisticHowcasualridersusebikesdifferentlythanmembers)"
   ]
  },
  {
   "cell_type": "markdown",
   "metadata": {},
   "source": [
    "### Act\n",
    "\n",
    "##### Recommendations based on Analysis\n",
    "First let's revisit the business task: How do annual members and casual riders use cyclistic bike differently?\n",
    "\n",
    "From the analysis, it can be seen that most of the commuters used docked_bikes to ride with rise in commuters in the month of August. Also, members use bikes on regular basis but their average ride time is less than the casual riders which shows that they must be using bikes for work purposes. It is also visible through analysis that casual riders use bikes mostly on saturdays and sundays while members use their bike consistently for each day of week.\n",
    "\n",
    "My three recommendations for key marketing strategy are:\n",
    "* Weekend only membership could be launched to attract casual riders.\n",
    "* A campaign could be launched for casual riders that if they would take annual membership they would get a chance to see the city for free for a weekend.\n",
    "* All kind of campaigns should be launched around autumn months when ridership is at its annual peak."
   ]
  }
 ],
 "metadata": {
  "kernelspec": {
   "display_name": "R",
   "language": "R",
   "name": "ir"
  },
  "language_info": {
   "codemirror_mode": "r",
   "file_extension": ".r",
   "mimetype": "text/x-r-source",
   "name": "R",
   "pygments_lexer": "r",
   "version": "3.6.1"
  }
 },
 "nbformat": 4,
 "nbformat_minor": 4
}
